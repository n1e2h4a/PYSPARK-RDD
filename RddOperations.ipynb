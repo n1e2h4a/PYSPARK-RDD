{
 "cells": [
  {
   "cell_type": "code",
   "execution_count": 13,
   "metadata": {},
   "outputs": [],
   "source": [
    "from pyspark.sql.functions import hour,minute,second,col,avg,when\n",
    "\n",
    "import pyspark.sql.functions as sql_functions\n",
    "from pyspark.sql import SQLContext\n",
    "import datetime\n",
    "sqlContext = SQLContext(sc)"
   ]
  },
  {
   "cell_type": "code",
   "execution_count": 2,
   "metadata": {},
   "outputs": [],
   "source": [
    "# Bazic groupBy example in python\n",
    "# creating RDD x with words\n",
    "x = sc.parallelize([\"Joseph\", \"Jimmy\", \"Tina\",\n",
    "                   \"Thomas\", \"James\", \"Cory\",\n",
    "                   \"Christine\", \"Jackeline\", \"Juan\"], 3)\n"
   ]
  },
  {
   "cell_type": "code",
   "execution_count": 3,
   "metadata": {},
   "outputs": [
    {
     "name": "stdout",
     "output_type": "stream",
     "text": [
      "('J', ['Joseph', 'Jimmy', 'James', 'Jackeline', 'Juan'])\n",
      "('T', ['Tina', 'Thomas'])\n",
      "('C', ['Cory', 'Christine'])\n"
     ]
    }
   ],
   "source": [
    "# Applying groupBy operation on x\n",
    "y = x.groupBy(lambda word: word[0])\n",
    "\n",
    "for t in y.collect():\n",
    "   print((t[0],[i for i in t[1]]))\n",
    "\n"
   ]
  },
  {
   "cell_type": "code",
   "execution_count": 5,
   "metadata": {},
   "outputs": [
    {
     "name": "stdout",
     "output_type": "stream",
     "text": [
      "[-15, -14, -13, -12, -11, -10, -9, -8, -7, -6, -5, -4, -3, -2, -1]\n"
     ]
    }
   ],
   "source": [
    "# FILTER OPERATION:-----\n",
    "\n",
    "numbers = range(-15, 15)\n",
    "less_than_zero = list(filter(lambda x: x < 0, numbers))\n",
    "print(less_than_zero)\n"
   ]
  },
  {
   "cell_type": "code",
   "execution_count": 7,
   "metadata": {},
   "outputs": [
    {
     "name": "stdout",
     "output_type": "stream",
     "text": [
      "[1, 4, 6, 2, 9, 10]\n"
     ]
    },
    {
     "data": {
      "text/plain": [
       "'(((((1, 4), 6), 2), 9), 10)'"
      ]
     },
     "execution_count": 7,
     "metadata": {},
     "output_type": "execute_result"
    }
   ],
   "source": [
    "#REDUCE OPERATION:----\n",
    "\n",
    "# we define a list of integers\n",
    "numbers = [1, 4, 6, 2, 9, 10]\n",
    "# Define a new function combine\n",
    "# Convert x and y to strings and create a tuple from x,y\n",
    "def combine(x,y):\n",
    "  return \"(\" + str(x) + \", \" + str(y) + \")\"\n",
    "\n",
    "# Use reduce to apply combine to numbers\n",
    "from functools import reduce\n",
    "\n",
    "print(numbers)\n",
    "reduce(combine,numbers)\n"
   ]
  },
  {
   "cell_type": "code",
   "execution_count": 14,
   "metadata": {},
   "outputs": [
    {
     "data": {
      "text/plain": [
       "[283.15, 276.15, 268.15, 298.15, 274.15, 282.15, 302.15, 263.15, 278.15]"
      ]
     },
     "execution_count": 14,
     "metadata": {},
     "output_type": "execute_result"
    }
   ],
   "source": [
    "#MAP\n",
    "\n",
    " temp_c = [10, 3, -5, 25, 1, 9, 29, -10, 5]\n",
    " temp_K = list(map(lambda x: x + 273.15, temp_c))\n",
    " list(temp_K)\n"
   ]
  },
  {
   "cell_type": "code",
   "execution_count": null,
   "metadata": {},
   "outputs": [],
   "source": []
  }
 ],
 "metadata": {
  "kernelspec": {
   "display_name": "Python 3",
   "language": "python",
   "name": "python3"
  },
  "language_info": {
   "codemirror_mode": {
    "name": "ipython",
    "version": 3
   },
   "file_extension": ".py",
   "mimetype": "text/x-python",
   "name": "python",
   "nbconvert_exporter": "python",
   "pygments_lexer": "ipython3",
   "version": "3.6.9"
  }
 },
 "nbformat": 4,
 "nbformat_minor": 4
}
